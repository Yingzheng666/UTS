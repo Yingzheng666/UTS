{
  "cells": [
    {
      "cell_type": "code",
      "execution_count": null,
      "metadata": {
        "id": "IkukaT7P6LtO"
      },
      "outputs": [],
      "source": [
        "import numpy as np\n",
        "import pandas as pd\n",
        "from math import log\n",
        "import matplotlib.pyplot as plt\n",
        "import operator\n",
        "from sklearn.datasets import load_iris\n",
        "import csv\n",
        "import random\n",
        "import math\n",
        "\n",
        "def read_iris_dataset():\n",
        "    dataset = []\n",
        "    with open('Iris.csv', newline='') as csv_file:\n",
        "        reader = csv.reader(csv_file, delimiter=',')\n",
        "        is_first = True\n",
        "        for row in reader:\n",
        "\n",
        "            instance = {}\n",
        "            if not is_first:\n",
        "                # skip first row\n",
        "                instance[\"SepalLengthCm\"] = float(row[1])\n",
        "                instance[\"SepalWidthCm\"] = float(row[2])\n",
        "                instance[\"PetalLengthCm\"] = float(row[3])\n",
        "                instance[\"PetalWidthCm\"] = float(row[4])\n",
        "                instance[\"Species\"] = row[5]\n",
        "                dataset.append(instance)\n",
        "            is_first = False\n",
        "\n",
        "    return dataset\n",
        "\n",
        "dataset = read_iris_dataset()\n",
        "# print first 5 row\n",
        "print(dataset[:5])"
      ]
    },
    {
      "cell_type": "code",
      "execution_count": null,
      "metadata": {
        "id": "mO9WjP0u6LtR"
      },
      "outputs": [],
      "source": [
        "# Calculate the entropy of the target label\n",
        "def entropy(dataset):\n",
        "    if len(dataset) == 0:\n",
        "        return 0\n",
        "\n",
        "    target_attribute_name = \"Species\"\n",
        "    target_attribute_values = [\"Iris-setosa\", \"Iris-versicolor\", \"Iris-virginica\"]\n",
        "\n",
        "    data_entropy = 0\n",
        "    \n",
        "    for val in target_attribute_values:\n",
        "\n",
        "        # calculate the probability p that an element in the set has the value val\n",
        "        p = len([elem for elem in dataset if elem[target_attribute_name] == val]) / len(dataset)\n",
        "\n",
        "        if p > 0:\n",
        "            data_entropy += -p * math.log(p, 2)\n",
        "\n",
        "    return data_entropy\n",
        "\n",
        "\n",
        "random.shuffle(dataset)  # to have different class\n",
        "entropy(dataset[:10])"
      ]
    },
    {
      "cell_type": "code",
      "execution_count": null,
      "metadata": {
        "id": "qdZ0Rfza6LtS"
      },
      "outputs": [],
      "source": [
        "#Information Gain\n",
        "# Calculate the average entropy of splitting over an attribute\n",
        "def info_gain(attribute_name, split, dataset):\n",
        "    # split set and calculate probabilities that elements are in the splits\n",
        "    # Split the dataset and calculate the p that the attribute_name is in split (before and after the threshold)）\n",
        "    set_smaller = [elem for elem in dataset if elem[attribute_name] < split]\n",
        "    p_smaller = len(set_smaller) / len(dataset)\n",
        "    set_greater_equals = [elem for elem in dataset if elem[attribute_name] >= split]\n",
        "    p_greater_equals = len(set_greater_equals) / len(dataset)\n",
        "\n",
        "    #Calculate the information gain, （represents the degree of information entropy reduction）\n",
        "    #Select the feature that maximizes information gain\n",
        "    info_gain_val = entropy(dataset)\n",
        "    info_gain_val -= p_smaller * entropy(set_smaller)\n",
        "    info_gain_val -= p_greater_equals * entropy(set_greater_equals)\n",
        "\n",
        "    return info_gain_val\n",
        "\n",
        "# The information gain of all attributes is calculated, \n",
        "# and the criterion of maximizing the information gain and the optimal segmentation are obtained\n",
        "def max_information_gain(attribute_list, attribute_values, dataset):\n",
        "    max_info_gain = 0\n",
        "    for attribute in attribute_list:  # test all input attributes\n",
        "        for split in attribute_values[attribute]:  \n",
        "            split_info_gain = info_gain(attribute, split, dataset)  \n",
        "            # calculate information gain\n",
        "            if split_info_gain >= max_info_gain:\n",
        "                max_info_gain = split_info_gain\n",
        "                max_info_gain_attribute = attribute\n",
        "                max_info_gain_split = split\n",
        "    return max_info_gain, max_info_gain_attribute, max_info_gain_split\n",
        "\n"
      ]
    },
    {
      "cell_type": "code",
      "execution_count": null,
      "metadata": {
        "id": "dgsq4jb46LtS"
      },
      "outputs": [],
      "source": [
        "MINIMUM_SAMPLE_SIZE = 4\n",
        "MAX_TREE_DEPTH = 3\n",
        "\n",
        "\n",
        "class tree_node:\n",
        "\n",
        "    def __init__(self, training_set, attribute_list, attribute_values, tree_depth):\n",
        "        self.is_leaf = False\n",
        "        self.dataset = training_set\n",
        "        self.split_attribute = None\n",
        "        self.split = None\n",
        "        self.attribute_list = attribute_list\n",
        "        self.attribute_values = attribute_values\n",
        "        self.left_child = None\n",
        "        self.right_child = None\n",
        "        self.prediction = None\n",
        "        self.depth = tree_depth\n",
        "\n",
        "    def build(self):\n",
        "\n",
        "        training_set = self.dataset\n",
        "\n",
        "        if self.depth < MAX_TREE_DEPTH and len(training_set) >= MINIMUM_SAMPLE_SIZE and len(\n",
        "                set([elem[\"Species\"] for elem in training_set])) > 1:\n",
        "            # get attribute and split with highest information gain\n",
        "            max_gain, attribute, split = max_information_gain(self.attribute_list, self.attribute_values, training_set)\n",
        "            print(\"depth {}, attribute {} split value {}, max split info gain: {}\".format(self.depth, attribute, split, max_gain))\n",
        "\n",
        "            # Test whether the information gain is greater than zero\n",
        "            if max_gain > 0:\n",
        "                # split tree\n",
        "                self.split = split\n",
        "                self.split_attribute = attribute\n",
        "\n",
        "                # Create the left and right nodes of the decision tree\n",
        "                training_set_l = [elem for elem in training_set if elem[attribute] < split]\n",
        "                training_set_r = [elem for elem in training_set if elem[attribute] >= split]\n",
        "                self.left_child = tree_node(training_set_l, self.attribute_list, self.attribute_values, self.depth + 1)\n",
        "                self.right_child = tree_node(training_set_r, self.attribute_list, self.attribute_values, self.depth + 1)\n",
        "                self.left_child.build()\n",
        "                self.right_child.build()\n",
        "            else:\n",
        "                self.is_leaf = True\n",
        "        else:\n",
        "            self.is_leaf = True\n",
        "\n",
        "        if self.is_leaf:\n",
        "        \n",
        "            setosa_count = versicolor_count = virginica_count = 0\n",
        "            for elem in training_set:\n",
        "                if elem[\"Species\"] == \"Iris-setosa\":\n",
        "                    setosa_count += 1\n",
        "                elif elem[\"Species\"] == \"Iris-versicolor\":\n",
        "                    versicolor_count += 1\n",
        "                else:\n",
        "                    virginica_count += 1\n",
        "            dominant_class = \"Iris-setosa\"\n",
        "            dom_class_count = setosa_count\n",
        "            if versicolor_count >= dom_class_count:\n",
        "                dom_class_count = versicolor_count\n",
        "                dominant_class = \"Iris-versicolor\"\n",
        "            if virginica_count >= dom_class_count:\n",
        "                dom_class_count = virginica_count\n",
        "                dominant_class = \"Iris-virginica\"\n",
        "            self.prediction = dominant_class\n",
        "\n",
        "    # Test the accuracy of the decision tree\n",
        "    def predict(self, sample):\n",
        "        if self.is_leaf:\n",
        "            return self.prediction\n",
        "        else:\n",
        "            if sample[self.split_attribute] < self.split:\n",
        "                return self.left_child.predict(sample)\n",
        "            else:\n",
        "                return self.right_child.predict(sample)\n",
        "\n",
        "    def merge_leaves(self):\n",
        "        if not self.is_leaf:\n",
        "            self.left_child.merge_leaves()\n",
        "            self.right_child.merge_leaves()\n",
        "            if self.left_child.is_leaf and self.right_child.is_leaf and self.left_child.prediction == self.right_child.prediction:\n",
        "                self.is_leaf = True\n",
        "                self.prediction = self.left_child.prediction\n",
        "\n",
        "    def print(self, prefix):\n",
        "        if self.is_leaf:\n",
        "            print(\"\\t\" * self.depth + prefix + self.prediction)\n",
        "        else:\n",
        "            print(\"\\t\" * self.depth + prefix + self.split_attribute + \"<\" + str(self.split) + \"?\")\n",
        "            self.left_child.print(\"[True] \")\n",
        "            self.right_child.print(\"[False] \")\n",
        "\n"
      ]
    },
    {
      "cell_type": "code",
      "execution_count": null,
      "metadata": {
        "id": "TbtSSxD36LtT"
      },
      "outputs": [],
      "source": [
        "\n",
        "class ID3_tree:\n",
        "    def __init__(self):\n",
        "        self.root = None\n",
        "\n",
        "    def build(self, training_set, attribute_list, attribute_values):\n",
        "        self.root = tree_node(training_set, attribute_list, attribute_values, 0)\n",
        "        self.root.build()\n",
        "\n",
        "    def merge_leaves(self):\n",
        "        self.root.merge_leaves()\n",
        "\n",
        "    def predict(self, sample):\n",
        "        return self.root.predict(sample)\n",
        "\n",
        "    def print(self):\n",
        "        print(\"----------------\")\n",
        "        print(\"DECISION TREE\")\n",
        "        self.root.print(\"\")\n",
        "        print(\"----------------\")\n",
        "\n"
      ]
    },
    {
      "cell_type": "code",
      "execution_count": null,
      "metadata": {
        "scrolled": true,
        "id": "LfT6XpQq6LtT",
        "outputId": "7b9671ad-1432-40a6-af12-f793408b256c"
      },
      "outputs": [
        {
          "name": "stdout",
          "output_type": "stream",
          "text": [
            "[28, 6, 70, 62, 57, 35, 26, 139, 22, 108, 8, 7, 23, 55, 59, 129, 148, 50, 107, 56, 114, 71, 1, 97, 103, 20, 89, 54, 43, 144, 19, 27, 126, 121, 13, 11, 48]\n",
            "dataset size: 150\n",
            "training set size: 113\n",
            "test set size: 37\n",
            "attr_domains (all possible value): {'SepalLengthCm': [4.7, 5.5, 5.0, 4.9, 5.1, 4.6, 5.4, 4.4, 4.8, 4.3, 5.8, 7.0, 7.1, 4.5, 5.9, 5.6, 6.9, 6.5, 6.4, 6.6, 6.0, 6.1, 7.6, 7.4, 7.9, 5.7, 5.3, 5.2, 6.3, 6.7, 6.2, 6.8, 7.3, 7.2, 7.7], 'SepalWidthCm': [2.9, 3.0, 3.5, 3.2, 3.6, 3.1, 3.9, 3.4, 3.7, 4.0, 4.4, 4.1, 2.0, 2.5, 2.6, 2.3, 2.8, 2.7, 2.2, 3.8, 3.3, 4.2, 2.4], 'PetalLengthCm': [1.7, 1.4, 1.6, 1.3, 1.5, 1.1, 1.2, 1.0, 1.9, 4.7, 4.5, 4.9, 4.0, 5.0, 6.0, 3.5, 3.0, 4.6, 4.4, 4.1, 5.1, 5.9, 5.6, 5.5, 5.4, 6.6, 6.1, 6.9, 6.4, 3.6, 3.3, 3.8, 3.7, 4.2, 4.8, 4.3, 5.8, 5.3, 5.7, 5.2, 6.3, 6.7, 3.9], 'PetalWidthCm': [0.2, 0.4, 0.3, 0.5, 0.6, 1.4, 1.5, 1.3, 1.6, 1.0, 1.1, 2.5, 2.0, 2.1, 1.2, 1.7, 0.1, 2.2, 2.3, 1.8, 1.9, 2.4]}\n",
            "depth 0, attribute PetalWidthCm split value 1.0, max split info gain: 0.9182958340544894\n",
            "depth 1, attribute PetalWidthCm split value 1.8, max split info gain: 0.6901603707546748\n",
            "depth 2, attribute PetalLengthCm split value 5.0, max split info gain: 0.21317043093799645\n",
            "depth 2, attribute PetalLengthCm split value 4.9, max split info gain: 0.09120811177442958\n",
            "----------------\n",
            "DECISION TREE\n",
            "PetalWidthCm<1.0?\n",
            "\t[True] Iris-setosa\n",
            "\t[False] PetalWidthCm<1.8?\n",
            "\t\t[True] PetalLengthCm<5.0?\n",
            "\t\t\t[True] Iris-versicolor\n",
            "\t\t\t[False] Iris-virginica\n",
            "\t\t[False] Iris-virginica\n",
            "----------------\n",
            "accuracy on test set: 97.30%\n"
          ]
        }
      ],
      "source": [
        "dataset = read_iris_dataset()\n",
        "if not dataset:\n",
        "    # dataset is empty\n",
        "    print('dataset is empty!')\n",
        "    exit(1)\n",
        "\n",
        "# Twenty-five percent of the sample was randomly selected\n",
        "seed = 42\n",
        "np.random.seed(seed)\n",
        "random.seed(seed)\n",
        "\n",
        "num = len(dataset)\n",
        "test_indices = random.sample(range(num), int(0.25 * num))\n",
        "print(test_indices)\n",
        "test_set = np.array(dataset)[test_indices]\n",
        "training_set = [dataset[i] for i in range(num) if not i in test_indices ]\n",
        "# test_set = random.sample(dataset, int(0.25 * len(dataset)))\n",
        "# test_set_dupl = test_set.copy()  # only needed to generate training set\n",
        "# training_set = [i for i in dataset if not i in test_set_dupl or test_set_dupl.remove(i)]\n",
        "print('dataset size:', len(dataset))\n",
        "print('training set size:', len(training_set))\n",
        "print('test set size:', len(test_set))\n",
        "\n",
        "attr_list = [\"SepalLengthCm\", \"SepalWidthCm\", \"PetalLengthCm\", \"PetalWidthCm\"]\n",
        "\n",
        "attr_domains = {}\n",
        "for attr in attr_list:\n",
        "    attr_domain = set()\n",
        "    for s in dataset:\n",
        "        attr_domain.add(s[attr])\n",
        "    attr_domains[attr] = list(attr_domain)\n",
        "print(\"attr_domains (all possible value): {}\".format(attr_domains))\n",
        "# build decision tree\n",
        "dt = ID3_tree()\n",
        "dt.build(dataset, attr_list, attr_domains)\n",
        "dt.merge_leaves()  # merge leaves with the same prediction\n",
        "\n",
        "# calculate accuracy with test set\n",
        "accuracy = 0\n",
        "for sample in test_set:\n",
        "    if sample[\"Species\"] == dt.predict(sample):\n",
        "        accuracy += (1/len(test_set))\n",
        "\n",
        "dt.print()\n",
        "\n",
        "print(\"accuracy on test set: \" + \"{:.2f}\".format(accuracy * 100) + \"%\")"
      ]
    },
    {
      "cell_type": "code",
      "execution_count": 2,
      "metadata": {
        "id": "dc3Tp6p86LtU"
      },
      "outputs": [],
      "source": []
    },
    {
      "cell_type": "code",
      "execution_count": 3,
      "metadata": {
        "id": "otSeXa8g6LtU",
        "outputId": "47ef73a8-cc8d-499c-85af-1e08e61a2a80",
        "colab": {
          "base_uri": "https://localhost:8080/",
          "height": 337
        }
      },
      "outputs": [
        {
          "output_type": "display_data",
          "data": {
            "text/plain": [
              "<Figure size 720x360 with 1 Axes>"
            ],
            "image/png": "[encoded data removed]"
          },
          "metadata": {
            "needs_background": "light"
          }
        },
        {
          "output_type": "stream",
          "name": "stdout",
          "text": [
            "feature weight :  [0.         0.         0.08988642 0.91011358]\n",
            "decision tree score :  1.0\n"
          ]
        }
      ],
      "source": [
        "from sklearn.model_selection import train_test_split\n",
        "from sklearn.datasets import load_iris\n",
        "from sklearn.tree import DecisionTreeClassifier, plot_tree\n",
        "import matplotlib.pyplot as plt\n",
        "iris = load_iris()\n",
        "\n",
        "features = iris['data']\n",
        "\n",
        "target = iris['target']\n",
        "feature_names = iris.feature_names\n",
        "feature_names = [\"SepalLengthCm\", \"SepalWidthCm\", \"PetalLengthCm\", \"PetalWidthCm\"]\n",
        "\n",
        "class_names = iris.target_names\n",
        "# ['setosa', 'versicolor', 'virginica']\n",
        "class_names = [\"Iris-setosa\", \"Iris-versicolor\", \"Iris-virginica\"]\n",
        "\n",
        "X_train, X_test, y_train, y_test = train_test_split(features, target, test_size=0.3, random_state=42)\n",
        "\n",
        "clf = DecisionTreeClassifier(max_depth=3, criterion='entropy')\n",
        "\n",
        "\n",
        "show_parms_max_depth_3 = clf.fit(X_train, y_train)\n",
        "plt.figure(figsize = (10,5))\n",
        "plot_tree(show_parms_max_depth_3, filled=True)\n",
        "plt.show()\n",
        "\n",
        "print(\"feature weight : \", clf.feature_importances_)\n",
        "\n",
        "print(\"decision tree score : \", clf.score(X=X_test, y=y_test))"
      ]
    },
    {
      "cell_type": "code",
      "execution_count": null,
      "metadata": {
        "id": "8dlKqzFo6LtU"
      },
      "outputs": [],
      "source": []
    }
  ],
  "metadata": {
    "kernelspec": {
      "display_name": "Python 3 (ipykernel)",
      "language": "python",
      "name": "python3"
    },
    "language_info": {
      "codemirror_mode": {
        "name": "ipython",
        "version": 3
      },
      "file_extension": ".py",
      "mimetype": "text/x-python",
      "name": "python",
      "nbconvert_exporter": "python",
      "pygments_lexer": "ipython3",
      "version": "3.9.12"
    },
    "vscode": {
      "interpreter": {
        "hash": "40d3a090f54c6569ab1632332b64b2c03c39dcf918b08424e98f38b5ae0af88f"
      }
    },
    "colab": {
      "provenance": [],
      "collapsed_sections": []
    }
  },
  "nbformat": 4,
  "nbformat_minor": 0
}